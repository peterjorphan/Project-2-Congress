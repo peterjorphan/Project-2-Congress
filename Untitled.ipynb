{
 "cells": [
  {
   "cell_type": "code",
   "execution_count": 23,
   "metadata": {},
   "outputs": [],
   "source": [
    "from propub_config import PROPUB_KEY\n",
    "import json\n",
    "import requests\n",
    "import csv\n",
    "import pandas as pd\n",
    "from datetime import date\n",
    "import datetime as datetime"
   ]
  },
  {
   "cell_type": "code",
   "execution_count": 2,
   "metadata": {},
   "outputs": [],
   "source": [
    "headers = {\n",
    "    \"X-API-Key\": PROPUB_KEY\n",
    "}"
   ]
  },
  {
   "cell_type": "code",
   "execution_count": 3,
   "metadata": {},
   "outputs": [],
   "source": [
    "members = []\n",
    "# first_name = []\n",
    "# last_name = []\n",
    "# date_of_birth = []\n",
    "# gender = []\n",
    "# party = []\n",
    "# state = []\n",
    "# congress = []\n",
    "# chamber = []\n",
    "# year = []\n",
    "# sworn_in_age = []"
   ]
  },
  {
   "cell_type": "code",
   "execution_count": 10,
   "metadata": {
    "scrolled": true
   },
   "outputs": [],
   "source": [
    "# for i in range(104, 116):\n",
    "#     baseURL = f\"https://api.propublica.org/congress/v1/{i}/senate/members.json\"\n",
    "    \n",
    "#     response = requests.get(baseURL, headers=headers).json()\n",
    "#     for j in range(0, len(response[\"results\"][0][\"members\"])):\n",
    "#         congress.append(response[\"results\"][0][\"congress\"])\n",
    "#         chamber.append(response[\"results\"][0][\"chamber\"])\n",
    "#         first_name.append(response[\"results\"][0][\"members\"][j][\"first_name\"])\n",
    "#         last_name.append(response[\"results\"][0][\"members\"][j][\"last_name\"])\n",
    "#         date_of_birth.append(response[\"results\"][0][\"members\"][j][\"date_of_birth\"])\n",
    "#         gender.append(response[\"results\"][0][\"members\"][j][\"gender\"])\n",
    "#         party.append(response[\"results\"][0][\"members\"][j][\"party\"])\n",
    "#         state.append(response[\"results\"][0][\"members\"][j][\"state\"])\n",
    "#         year.append(1787 + (int(congress[len(congress) - 1]) * 2))\n",
    "        \n",
    "#         sworn_in_date = date(year[len(year) - 1], 1, 3)\n",
    "#         print(type(date_of_birth))\n",
    "# #         sworn_in_age.append(sworn_in_date - date(date_of_birth[len(date_of_birth) - 1]))\n",
    "\n",
    "# #     with open(f'testfile_{i}.json', 'w') as outfile:\n",
    "# #         json.dump(response, outfile)"
   ]
  },
  {
   "cell_type": "code",
   "execution_count": 22,
   "metadata": {},
   "outputs": [
    {
     "ename": "TypeError",
     "evalue": "'module' object is not callable",
     "output_type": "error",
     "traceback": [
      "\u001b[1;31m---------------------------------------------------------------------------\u001b[0m",
      "\u001b[1;31mTypeError\u001b[0m                                 Traceback (most recent call last)",
      "\u001b[1;32m<ipython-input-22-6b6e650d0ec3>\u001b[0m in \u001b[0;36m<module>\u001b[1;34m\u001b[0m\n\u001b[0;32m     16\u001b[0m         \u001b[0msworn_in_date\u001b[0m \u001b[1;33m=\u001b[0m \u001b[0mdate\u001b[0m\u001b[1;33m(\u001b[0m\u001b[0myear\u001b[0m\u001b[1;33m[\u001b[0m\u001b[0mlen\u001b[0m\u001b[1;33m(\u001b[0m\u001b[0myear\u001b[0m\u001b[1;33m)\u001b[0m \u001b[1;33m-\u001b[0m \u001b[1;36m1\u001b[0m\u001b[1;33m]\u001b[0m\u001b[1;33m,\u001b[0m \u001b[1;36m1\u001b[0m\u001b[1;33m,\u001b[0m \u001b[1;36m3\u001b[0m\u001b[1;33m)\u001b[0m\u001b[1;33m\u001b[0m\u001b[1;33m\u001b[0m\u001b[0m\n\u001b[0;32m     17\u001b[0m \u001b[1;33m\u001b[0m\u001b[0m\n\u001b[1;32m---> 18\u001b[1;33m         \u001b[0mdata\u001b[0m\u001b[1;33m[\u001b[0m\u001b[1;34m\"sworn_in_age\"\u001b[0m\u001b[1;33m]\u001b[0m \u001b[1;33m=\u001b[0m \u001b[0msworn_in_date\u001b[0m \u001b[1;33m-\u001b[0m \u001b[0mdt\u001b[0m\u001b[1;33m(\u001b[0m\u001b[0mdata\u001b[0m\u001b[1;33m[\u001b[0m\u001b[1;34m\"date_of_birth\"\u001b[0m\u001b[1;33m]\u001b[0m\u001b[1;33m)\u001b[0m\u001b[1;33m\u001b[0m\u001b[1;33m\u001b[0m\u001b[0m\n\u001b[0m\u001b[0;32m     19\u001b[0m \u001b[1;33m\u001b[0m\u001b[0m\n\u001b[0;32m     20\u001b[0m         \u001b[0mmembers\u001b[0m\u001b[1;33m.\u001b[0m\u001b[0mappend\u001b[0m\u001b[1;33m(\u001b[0m\u001b[0mdata\u001b[0m\u001b[1;33m)\u001b[0m\u001b[1;33m\u001b[0m\u001b[1;33m\u001b[0m\u001b[0m\n",
      "\u001b[1;31mTypeError\u001b[0m: 'module' object is not callable"
     ]
    }
   ],
   "source": [
    "for i in range(104, 116):\n",
    "    baseURL = f\"https://api.propublica.org/congress/v1/{i}/senate/members.json\"\n",
    "    \n",
    "    response = requests.get(baseURL, headers=headers).json()\n",
    "    for j in range(0, len(response[\"results\"][0][\"members\"])):\n",
    "        data = {}\n",
    "        data[\"congress\"] = response[\"results\"][0][\"congress\"]\n",
    "        data[\"chamber\"] = response[\"results\"][0][\"chamber\"]\n",
    "        data[\"first_name\"] = response[\"results\"][0][\"members\"][j][\"first_name\"]\n",
    "        data[\"last_name\"] = response[\"results\"][0][\"members\"][j][\"last_name\"]\n",
    "        data[\"date_of_birth\"] = response[\"results\"][0][\"members\"][j][\"date_of_birth\"]\n",
    "        data[\"gender\"] = response[\"results\"][0][\"members\"][j][\"gender\"]\n",
    "        data[\"party\"] = response[\"results\"][0][\"members\"][j][\"party\"]\n",
    "        data[\"state\"] = response[\"results\"][0][\"members\"][j][\"state\"]\n",
    "        data[\"year\"] = 1787 + (int(congress[len(congress) - 1]) * 2)\n",
    "        sworn_in_date = date(year[len(year) - 1], 1, 3)\n",
    "        \n",
    "        data[\"sworn_in_age\"] = sworn_in_date - dt(data[\"date_of_birth\"])\n",
    "        \n",
    "        members.append(data)\n",
    "        \n",
    "        print(type(date_of_birth))\n",
    "\n",
    "#     with open(f'testfile_{i}.json', 'w') as outfile:\n",
    "#         json.dump(response, outfile)"
   ]
  },
  {
   "cell_type": "code",
   "execution_count": null,
   "metadata": {},
   "outputs": [],
   "source": [
    "for i in range(104, 116):\n",
    "    baseURL = f\"https://api.propublica.org/congress/v1/{i}/house/members.json\"\n",
    "    \n",
    "    response = requests.get(baseURL, headers=headers).json()\n",
    "    for j in range(0, len(response[\"results\"][0][\"members\"])):\n",
    "        congress.append(response[\"results\"][0][\"congress\"])\n",
    "        chamber.append(response[\"results\"][0][\"chamber\"])\n",
    "        first_name.append(response[\"results\"][0][\"members\"][j][\"first_name\"])\n",
    "        last_name.append(response[\"results\"][0][\"members\"][j][\"last_name\"])\n",
    "        date_of_birth.append(response[\"results\"][0][\"members\"][j][\"date_of_birth\"])\n",
    "        gender.append(response[\"results\"][0][\"members\"][j][\"gender\"])\n",
    "        party.append(response[\"results\"][0][\"members\"][j][\"party\"])\n",
    "        state.append(response[\"results\"][0][\"members\"][j][\"state\"])\n",
    "        year.append(1787 + (int(congress[len(congress) - 1]) * 2))\n",
    "        \n",
    "        sworn_in_date = date(year[len(year) - 1], 01, 03)\n",
    "        sworn_in_age.append((sworn_in_date - date(date_of_birth[len(date_of_birth) - 1])).years)\n",
    "#     with open(f'testfile_{i}.json', 'w') as outfile:\n",
    "#         json.dump(response, outfile)"
   ]
  },
  {
   "cell_type": "code",
   "execution_count": null,
   "metadata": {},
   "outputs": [],
   "source": [
    "shows_df = pd.DataFrame({\n",
    "    \"first_name\": first_name,\n",
    "    \"last_name\": last_name,\n",
    "    \"date_of_birth\": date_of_birth,\n",
    "    \"gender\": gender,\n",
    "    \"party\": party,\n",
    "    \"state\": state,\n",
    "    \"congress\": congress,\n",
    "    \"chamber\": chamber,\n",
    "    \"year\": year\n",
    "    \"sworn_in_age\": sworn_in_age\n",
    "    \n",
    "    \n",
    "    \n",
    "})\n",
    "\n",
    "shows_df"
   ]
  },
  {
   "cell_type": "code",
   "execution_count": null,
   "metadata": {},
   "outputs": [],
   "source": []
  }
 ],
 "metadata": {
  "kernelspec": {
   "display_name": "Python 3",
   "language": "python",
   "name": "python3"
  },
  "language_info": {
   "codemirror_mode": {
    "name": "ipython",
    "version": 3
   },
   "file_extension": ".py",
   "mimetype": "text/x-python",
   "name": "python",
   "nbconvert_exporter": "python",
   "pygments_lexer": "ipython3",
   "version": "3.6.7"
  }
 },
 "nbformat": 4,
 "nbformat_minor": 2
}
