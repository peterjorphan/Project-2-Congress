{
 "cells": [
  {
   "cell_type": "code",
   "execution_count": 1,
   "metadata": {},
   "outputs": [],
   "source": [
    "import os\n",
    "\n",
    "import pandas as pd\n",
    "import numpy as np\n",
    "\n",
    "import sqlalchemy\n",
    "from sqlalchemy.ext.automap import automap_base\n",
    "from sqlalchemy.orm import Session\n",
    "from sqlalchemy import create_engine\n",
    "\n",
    "from flask import Flask, jsonify, render_template\n",
    "from flask_sqlalchemy import SQLAlchemy\n",
    "\n",
    "app = Flask(__name__)"
   ]
  },
  {
   "cell_type": "code",
   "execution_count": 2,
   "metadata": {},
   "outputs": [
    {
     "name": "stderr",
     "output_type": "stream",
     "text": [
      "c:\\users\\adam\\anaconda\\anaconda3\\envs\\pythondata\\lib\\site-packages\\flask_sqlalchemy\\__init__.py:835: FSADeprecationWarning: SQLALCHEMY_TRACK_MODIFICATIONS adds significant overhead and will be disabled by default in the future.  Set it to True or False to suppress this warning.\n",
      "  'SQLALCHEMY_TRACK_MODIFICATIONS adds significant overhead and '\n"
     ]
    }
   ],
   "source": [
    "#################################################\n",
    "# Database Setup\n",
    "#################################################\n",
    "\n",
    "app.config[\"SQLALCHEMY_DATABASE_URI\"] = \"sqlite:///db/db_congress.db\"\n",
    "db = SQLAlchemy(app)\n",
    "\n",
    "# reflect an existing database into a new model\n",
    "Base = automap_base()\n",
    "# reflect the tables\n",
    "Base.prepare(db.engine, reflect=True)\n",
    "\n",
    "# Save references to each table\n",
    "Members_Metadata = Base.classes.members\n",
    "\n"
   ]
  },
  {
   "cell_type": "code",
   "execution_count": 57,
   "metadata": {
    "scrolled": false
   },
   "outputs": [],
   "source": [
    "def line(state):\n",
    "    stmt = db.session.query(Members_Metadata).statement\n",
    "    df = pd.read_sql_query(stmt, db.session.bind)\n",
    "    \n",
    "    # Filter the data for the states selected\n",
    "#     df_filtered = pd.DataFrame()\n",
    "    \n",
    "    df_filtered = df.loc[df['State'] == state].reset_index()\n",
    "    \n",
    "    # Group the dataframes\n",
    "    df_filtered_grouped = df_filtered['SwornInAge'].groupby(df_filtered['Year'])\n",
    "    df_grouped = df['SwornInAge'].groupby(df['Year'])\n",
    "    df_ByState = df['SwornInAge'].groupby([df['State'], df['Year']])\n",
    "#     d = df_filtered_grouped.mean().unstack()\n",
    "\n",
    "    # Format the data to send as json\n",
    "    data = {\n",
    "        \"Year\": list(df_filtered_grouped.groups.keys()),\n",
    "        \"AverageAge\": list(df_filtered_grouped.mean()), \n",
    "        \"AverageTotal\": list(df_grouped.mean())\n",
    "    }\n",
    "    \n",
    "#     for index, row in d.iterrows():\n",
    "#         data = {\n",
    "# #             \"State\": [index],\n",
    "#             \"Year\": list(d.columns),\n",
    "#             \"AverageAge\": list(row)\n",
    "#         }\n",
    "\n",
    "    print (df_filtered_grouped.mean())\n",
    "    print(data)\n",
    "#     print(df_ByState.mean())\n",
    "\n",
    "    return jsonify(data)\n",
    "    # return data"
   ]
  },
  {
   "cell_type": "code",
   "execution_count": 58,
   "metadata": {
    "scrolled": true
   },
   "outputs": [
    {
     "name": "stdout",
     "output_type": "stream",
     "text": [
      "Year\n",
      "1995    55.537500\n",
      "1997    52.525833\n",
      "1999    55.090909\n",
      "2001    52.903333\n",
      "2003    53.618182\n",
      "2005    54.250909\n",
      "2007    56.544545\n",
      "2009    59.094545\n",
      "2011    56.980000\n",
      "2013    55.605455\n",
      "2015    56.936000\n",
      "2017    58.936000\n",
      "2019    58.292000\n",
      "Name: SwornInAge, dtype: float64\n",
      "{'Year': [1995, 1997, 1999, 2001, 2003, 2005, 2007, 2009, 2011, 2013, 2015, 2017, 2019], 'AverageAge': [55.5375, 52.52583333333334, 55.0909090909091, 52.90333333333333, 53.61818181818182, 54.25090909090909, 56.54454545454546, 59.094545454545454, 56.98, 55.605454545454535, 56.93599999999999, 58.93599999999999, 58.29199999999999], 'AverageTotal': [52.64825539568352, 53.07879999999999, 54.178903107861125, 54.73493670886078, 55.502124542124605, 56.559268738574076, 57.338936936936996, 57.85612788632325, 57.711609403255004, 57.649963963963934, 57.94567518248175, 58.828680926916206, 58.51798148148147]}\n"
     ]
    }
   ],
   "source": [
    "with app.app_context():\n",
    "    line('MO')"
   ]
  },
  {
   "cell_type": "code",
   "execution_count": null,
   "metadata": {},
   "outputs": [],
   "source": [
    "def bar(year):\n",
    "    stmt = db.session.query(Members_Metadata).statement\n",
    "    df = pd.read_sql_query(stmt, db.session.bind)\n",
    "    \n",
    "    # Filter the data for the year selected\n",
    "    \n",
    "    df_filtered = df.loc[df['Year'] == year].reset_index()\n",
    "        \n",
    "    # Group the dataframes\n",
    "    df_filtered_grouped = df_filtered['SwornInAge'].groupby(df_filtered['State'])\n",
    "    df_grouped = df['SwornInAge'].groupby(df['State'])\n",
    "    df_ByYear = df['SwornInAge'].groupby([df['Year'], df['State']])\n",
    "    df_filtered_party = df_filtered['Party'].groupby(df_filtered['State'])\n",
    "    \n",
    "    # Get Majority Party for each State\n",
    "\n",
    "    df_party = df_filtered_party.value_counts().reset_index(name='count')\n",
    "\n",
    "    df_pivot = df_party.pivot(index='State', columns='Party', values='count')\n",
    "\n",
    "    df_pivot = df_pivot.fillna(0)\n",
    "\n",
    "    df_pivot['Majority'] = np.where(df_pivot['D']> df_pivot[\"R\"], 'D', 'R')\n",
    "\n",
    "    # Format the data to send as json\n",
    "    data = {\n",
    "        \"State\": list(df_filtered_grouped.groups.keys()),\n",
    "        \"AverageAge\": list(df_filtered_grouped.mean()), \n",
    "        \"Party\": df_pivot.Majority.values.tolist()\n",
    "    }\n",
    "\n",
    "    return jsonify(data)"
   ]
  },
  {
   "cell_type": "code",
   "execution_count": 59,
   "metadata": {
    "scrolled": false
   },
   "outputs": [],
   "source": [
    "def bar(year):\n",
    "    stmt = db.session.query(Members_Metadata).statement\n",
    "    df = pd.read_sql_query(stmt, db.session.bind)\n",
    "    \n",
    "    # Filter the data for the year selected\n",
    "    \n",
    "    df_filtered = df.loc[df['Year'] == year].reset_index()\n",
    "        \n",
    "    # Group the dataframes\n",
    "    df_filtered_grouped = df_filtered['SwornInAge'].groupby(df_filtered['State'])\n",
    "    df_grouped = df['SwornInAge'].groupby(df['State'])\n",
    "    df_ByYear = df['SwornInAge'].groupby([df['Year'], df['State']])\n",
    "    df_filtered_party = df_filtered['Party'].groupby(df_filtered['State'])\n",
    "    \n",
    "    # Get Majority Party for each State\n",
    "\n",
    "    df_party = df_filtered_party.value_counts().reset_index(name='count')\n",
    "\n",
    "    df_pivot = df_party.pivot(index='State', columns='Party', values='count')\n",
    "\n",
    "    df_pivot = df_pivot.fillna(0)\n",
    "\n",
    "    df_pivot['Majority'] = np.where(df_pivot['D']> df_pivot[\"R\"], 'D', 'R')\n",
    "\n",
    "    # Format the data to send as json\n",
    "    data = {\n",
    "        \"State\": list(df_filtered_grouped.groups.keys()),\n",
    "        \"AverageAge\": list(df_filtered_grouped.mean()), \n",
    "        \"Party\": df_pivot.Majority.values.tolist()\n",
    "    }\n",
    "\n",
    "    return jsonify(data)"
   ]
  },
  {
   "cell_type": "code",
   "execution_count": 60,
   "metadata": {},
   "outputs": [],
   "source": [
    "with app.app_context():\n",
    "    bar(2019)"
   ]
  },
  {
   "cell_type": "code",
   "execution_count": 62,
   "metadata": {},
   "outputs": [],
   "source": [
    "def map(year):\n",
    "    stmt = db.session.query(Members_Metadata).statement\n",
    "    df = pd.read_sql_query(stmt, db.session.bind)\n",
    "\n",
    "    # Filter the data for the states selected\n",
    "\n",
    "    df_filtered = df.loc[df['Year'] == year].reset_index()\n",
    "\n",
    "    # Group the dataframes\n",
    "    df_filtered_grouped_State = df_filtered['SwornInAge'].groupby(df_filtered['State'])\n",
    "\n",
    "    # Format the data to send as json\n",
    "    datastate = {\n",
    "       \"State\": list(df_filtered_grouped_State.groups.keys()),\n",
    "       \"AverageAge\": list(df_filtered_grouped_State.mean())\n",
    "    }\n",
    "\n",
    "    return jsonify(datastate)"
   ]
  },
  {
   "cell_type": "code",
   "execution_count": 63,
   "metadata": {},
   "outputs": [],
   "source": [
    "with app.app_context():\n",
    "    map(2019)"
   ]
  }
 ],
 "metadata": {
  "kernelspec": {
   "display_name": "Python 3",
   "language": "python",
   "name": "python3"
  },
  "language_info": {
   "codemirror_mode": {
    "name": "ipython",
    "version": 3
   },
   "file_extension": ".py",
   "mimetype": "text/x-python",
   "name": "python",
   "nbconvert_exporter": "python",
   "pygments_lexer": "ipython3",
   "version": "3.6.7"
  }
 },
 "nbformat": 4,
 "nbformat_minor": 2
}
